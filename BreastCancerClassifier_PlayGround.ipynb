{
  "nbformat": 4,
  "nbformat_minor": 0,
  "metadata": {
    "colab": {
      "name": "BreastCancerClassifier_PlayGround.ipynb",
      "provenance": [],
      "collapsed_sections": []
    },
    "kernelspec": {
      "name": "python3",
      "display_name": "Python 3"
    },
    "language_info": {
      "name": "python"
    }
  },
  "cells": [
    {
      "cell_type": "code",
      "execution_count": null,
      "metadata": {
        "id": "2pTAqXZnj1s1"
      },
      "outputs": [],
      "source": [
        "# Importing necessary libraries\n",
        "import keras\n",
        "import tensorflow\n",
        "from skimage import io\n",
        "import os\n",
        "import glob\n",
        "import numpy as np\n",
        "import random\n",
        "import matplotlib.pyplot as plt"
      ]
    },
    {
      "cell_type": "code",
      "source": [
        "# Importing and Loading the data into data frame\n",
        "#class => [1: IDC], [0: non-IDC]\n",
        "DATASET_PATH = './data/**/*.png'\n",
        "cancer_class = ['non-IDC', 'IDC']"
      ],
      "metadata": {
        "id": "gV0zPzKYj4G8"
      },
      "execution_count": null,
      "outputs": []
    },
    {
      "cell_type": "code",
      "source": [
        "# glob through the directory (returns a list of all file paths)\n",
        "#data_path = os.path.join(DATASET_PATH, cancer_class[1], '*')\n",
        "data = glob.glob(DATASET_PATH, recursive=True)"
      ],
      "metadata": {
        "id": "J9JiHkcuj7Mw"
      },
      "execution_count": null,
      "outputs": []
    },
    {
      "cell_type": "code",
      "source": [
        "# access some element (a file) from the list\n",
        "image = io.imread(data[200])"
      ],
      "metadata": {
        "id": "L5XuhnZMj9Sv"
      },
      "execution_count": null,
      "outputs": []
    },
    {
      "cell_type": "code",
      "source": [
        "for imgname in data[:3]:\n",
        "    print(imgname)"
      ],
      "metadata": {
        "id": "vwBJT1okj_bC"
      },
      "execution_count": null,
      "outputs": []
    },
    {
      "cell_type": "code",
      "source": [
        "non_cancer_images = []\n",
        "cancer_images = []\n",
        "\n",
        "for img in data:\n",
        "    if img[-5] == '0' :\n",
        "        non_cancer_images.append(img)\n",
        "    \n",
        "    elif img[-5] == '1' :\n",
        "        cancer_images.append(img)"
      ],
      "metadata": {
        "id": "AGTsuNzVkCYD"
      },
      "execution_count": null,
      "outputs": []
    },
    {
      "cell_type": "code",
      "source": [
        "non_cancer_count = len(non_cancer_images)\n",
        "cancer_count = len(cancer_images)\n",
        "        \n",
        "total_image_count = non_cancer_count + cancer_count\n",
        "        \n",
        "print('Number of Images in IDC (-): {}' .format(non_cancer_count))\n",
        "print('Number of Images in IDC (+) : {}' .format(cancer_count))\n",
        "print('Total Number of Images : {}' .format(total_image_count))"
      ],
      "metadata": {
        "id": "D0gyNVzCkEUV"
      },
      "execution_count": null,
      "outputs": []
    },
    {
      "cell_type": "code",
      "source": [
        "from keras.preprocessing import image\n",
        "\n",
        "plt.figure(figsize = (15, 15))\n",
        "\n",
        "some_non = np.random.randint(0, len(non_cancer_images), 18)\n",
        "some_can = np.random.randint(0, len(cancer_images), 18)\n",
        "\n",
        "s = 0\n",
        "for num in some_non:\n",
        "    \n",
        "        img = image.load_img((non_cancer_images[num]), target_size=(100, 100))\n",
        "        img = image.img_to_array(img)\n",
        "        \n",
        "        plt.subplot(6, 6, 2*s+1)\n",
        "        plt.axis('off')\n",
        "        plt.title('IDC (-)')\n",
        "        plt.imshow(img.astype('uint8'))\n",
        "        s += 1\n",
        "        \n",
        "s = 1\n",
        "for num in some_can:\n",
        "    \n",
        "        img = image.load_img((cancer_images[num]), target_size=(100, 100))\n",
        "        img = image.img_to_array(img)\n",
        "        \n",
        "        plt.subplot(6, 6, 2*s)\n",
        "        plt.axis('off')        \n",
        "        plt.title('IDC (+)')\n",
        "        plt.imshow(img.astype('uint8'))\n",
        "        s += 1"
      ],
      "metadata": {
        "id": "FZsHoHLBkHA4"
      },
      "execution_count": null,
      "outputs": []
    },
    {
      "cell_type": "code",
      "source": [
        "from matplotlib.image import imread\n",
        "import cv2\n",
        "\n",
        "some_non_img = random.sample(non_cancer_images, len(cancer_images))\n",
        "some_can_img = random.sample(cancer_images,     len(cancer_images))\n",
        "\n",
        "non_img_arr = []\n",
        "can_img_arr = []\n",
        "\n",
        "for img in some_non_img:\n",
        "        \n",
        "    n_img = cv2.imread(img, cv2.IMREAD_COLOR)\n",
        "    n_img_size = cv2.resize(n_img, (50, 50), interpolation = cv2.INTER_LINEAR)\n",
        "    non_img_arr.append([n_img_size, 0])\n",
        "    \n",
        "for img in some_can_img:\n",
        "    \n",
        "    c_img = cv2.imread(img, cv2.IMREAD_COLOR)\n",
        "    c_img_size = cv2.resize(c_img, (50, 50), interpolation = cv2.INTER_LINEAR)\n",
        "    can_img_arr.append([c_img_size, 1])"
      ],
      "metadata": {
        "id": "dduo1JgwkKDC"
      },
      "execution_count": null,
      "outputs": []
    },
    {
      "cell_type": "code",
      "source": [
        "X = []\n",
        "y = []\n",
        "\n",
        "breast_img_arr = np.concatenate((non_img_arr, can_img_arr))\n",
        "random.shuffle(breast_img_arr)\n",
        "\n",
        "for feature, label in breast_img_arr:\n",
        "    X.append(feature)\n",
        "    y.append(label)\n",
        "    \n",
        "X = np.array(X)\n",
        "y = np.array(y)\n",
        "\n",
        "print('X shape : {}' .format(X.shape))"
      ],
      "metadata": {
        "id": "IqZGrQXfkMCB"
      },
      "execution_count": null,
      "outputs": []
    },
    {
      "cell_type": "code",
      "source": [
        "from sklearn.model_selection import train_test_split\n",
        "from keras.utils.np_utils import to_categorical\n",
        "\n",
        "X_train, X_predict, y_train, y_true = train_test_split(X, y, test_size = 0.3, random_state = 7)\n",
        "\n",
        "rate = 0.5\n",
        "num = int(X.shape[0] * rate)\n",
        "\n",
        "X_test = X_train[num:]\n",
        "X_train = X_train[:num]\n",
        "\n",
        "y_test = y_train[num:]\n",
        "y_train = y_train[:num]\n",
        "\n",
        "y_train = to_categorical(y_train, 2)\n",
        "y_test = to_categorical(y_test, 2)\n",
        "y_true = to_categorical(y_true, 2)\n",
        "\n",
        "print('X_train shape : {}' .format(X_train.shape))\n",
        "print('X_test shape : {}' .format(X_test.shape))\n",
        "print('X_predict shape : {}' .format(X_predict.shape))\n",
        "print('y_train shape : {}' .format(y_train.shape))\n",
        "print('y_test shape : {}' .format(y_test.shape))\n",
        "print('y_true shape : {}' .format(y_true.shape))"
      ],
      "metadata": {
        "id": "t2d1ucNJkODp"
      },
      "execution_count": null,
      "outputs": []
    },
    {
      "cell_type": "code",
      "source": [
        "from keras.models import Sequential\n",
        "from keras.layers import Conv2D, MaxPooling2D, Dropout, Flatten, Dense\n",
        "\n",
        "model = Sequential()\n",
        "\n",
        "model.add(Conv2D(32, (3, 3), padding = 'same', activation = 'relu', input_shape = (50, 50, 3)))\n",
        "model.add(MaxPooling2D(2, 2))\n",
        "model.add(Dropout(0.25))\n",
        "\n",
        "model.add(Conv2D(64, (3, 3), padding = 'same', activation = 'relu', input_shape = (50, 50, 3)))\n",
        "model.add(MaxPooling2D(2, 2))\n",
        "model.add(Dropout(0.25))\n",
        "\n",
        "model.add(Conv2D(128, (3, 3), padding = 'same', activation = 'relu', input_shape = (50, 50, 3)))\n",
        "model.add(MaxPooling2D(2, 2))\n",
        "model.add(Dropout(0.25))\n",
        "\n",
        "model.add(Conv2D(128, (3, 3), padding = 'same', activation = 'relu', input_shape = (50, 50, 3)))\n",
        "model.add(MaxPooling2D(2, 2))\n",
        "model.add(Dropout(0.25))\n",
        "\n",
        "model.add(Flatten())\n",
        "model.add(Dense(128, activation = 'relu'))\n",
        "\n",
        "model.add(Dropout(0.5))\n",
        "model.add(Dense(2, activation = 'sigmoid'))\n",
        "\n",
        "model.summary()"
      ],
      "metadata": {
        "id": "qlmDhhsBkP6u"
      },
      "execution_count": null,
      "outputs": []
    },
    {
      "cell_type": "code",
      "source": [
        "from tensorflow.keras.optimizers import Adam\n",
        "\n",
        "Adam = Adam(learning_rate = 0.0001)\n",
        "model.compile(loss = 'binary_crossentropy', optimizer = Adam, metrics = ['accuracy'])"
      ],
      "metadata": {
        "id": "2KfjEloEkRx7"
      },
      "execution_count": null,
      "outputs": []
    },
    {
      "cell_type": "code",
      "source": [
        "history = model.fit(X_train, y_train, validation_data = (X_test, y_test), epochs = 30, batch_size = 50)"
      ],
      "metadata": {
        "id": "w-XVtnskkTbi"
      },
      "execution_count": null,
      "outputs": []
    },
    {
      "cell_type": "code",
      "source": [
        "plt.plot(history.history['accuracy'])\n",
        "plt.plot(history.history['val_accuracy'])\n",
        "plt.title('Model Accuracy')\n",
        "plt.xlabel('epoch')\n",
        "plt.ylabel('accuracy')\n",
        "plt.legend(['train', 'test'], loc='upper left')\n",
        "plt.show()"
      ],
      "metadata": {
        "id": "U3eNp6UwkV7v"
      },
      "execution_count": null,
      "outputs": []
    },
    {
      "cell_type": "code",
      "source": [
        "result = model.evaluate(X_test, y_test, batch_size = 50)\n",
        "print('Test Loss, Test Accuracy :', result)"
      ],
      "metadata": {
        "id": "50U4FwVKkXb9"
      },
      "execution_count": null,
      "outputs": []
    },
    {
      "cell_type": "code",
      "source": [
        "plt.plot(history.history['loss'])\n",
        "plt.plot(history.history['val_loss'])\n",
        "plt.title('Model Loss')\n",
        "plt.xlabel('epoch')\n",
        "plt.ylabel('loss')\n",
        "plt.legend(['train', 'test'], loc='upper left')\n",
        "plt.show()"
      ],
      "metadata": {
        "id": "cw2-TyfgkYyq"
      },
      "execution_count": null,
      "outputs": []
    },
    {
      "cell_type": "code",
      "source": [
        "P = model.predict(X_predict)\n",
        "\n",
        "true = 0\n",
        "for i in range(X_predict.shape[0]):\n",
        "    if(np.argmax(P[i]) == np.argmax(y_true[i])):\n",
        "        true = true + 1\n",
        "\n",
        "pre_accuracy = 100 * float(true/X_predict.shape[0])        \n",
        "print('Predict Accuracy: {}' .format(pre_accuracy))"
      ],
      "metadata": {
        "id": "aGrEJCKCkabn"
      },
      "execution_count": null,
      "outputs": []
    },
    {
      "cell_type": "code",
      "source": [
        "import seaborn as sns\n",
        "false = len(X_predict) - true\n",
        "\n",
        "predict = [true, false]\n",
        "label = ['true_predict', 'false_predict']\n",
        "\n",
        "plt.bar(label[0], predict[0])\n",
        "plt.bar(label[1], predict[1])\n",
        "plt.title('Predict Accuracy')\n",
        "plt.xlabel('predict')\n",
        "plt.ylabel('count')\n",
        "plt.legend(['true_predict', 'false_predict'], loc='upper left')\n",
        "plt.show()"
      ],
      "metadata": {
        "id": "IbYNgPWFkb_u"
      },
      "execution_count": null,
      "outputs": []
    }
  ]
}